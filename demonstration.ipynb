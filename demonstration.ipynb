{
 "cells": [
  {
   "cell_type": "markdown",
   "metadata": {},
   "source": [
    "# Kryptoanalýza substituční šifry pomocí Metropolis-Hastings algoritmu\n",
    "\n",
    "Tento notebook demonstruje implementaci a použití knihovny pro šifrování, dešifrování a kryptoanalýzu substituční šifry."
   ]
  },
  {
   "cell_type": "code",
   "execution_count": null,
   "metadata": {},
   "outputs": [],
   "source": [
    "# Import potřebných knihoven\n",
    "import numpy as np\n",
    "import matplotlib.pyplot as plt\n",
    "import seaborn as sns\n",
    "from substitution_cipher import SubstitutionCipher, BigramAnalysis\n",
    "from cryptanalysis import MetropolisHastingsCryptanalysis, load_reference_matrix\n",
    "import pickle\n",
    "%matplotlib inline"
   ]
  },
  {
   "cell_type": "markdown",
   "metadata": {},
   "source": [
    "## 1. Šifrování a dešifrování textu\n",
    "\n",
    "Nejprve ukážeme základní funkce pro šifrování a dešifrování textu pomocí substituční šifry."
   ]
  },
  {
   "cell_type": "code",
   "execution_count": null,
   "metadata": {},
   "outputs": [],
   "source": [
    "# Vytvoření instance šifry\n",
    "cipher = SubstitutionCipher()\n",
    "\n",
    "# Ukázkový text\n",
    "original_text = \"AHOJ_JAK_SE_MAS_DNES_JE_KRASNY_DEN\"\n",
    "print(f\"Původní text: {original_text}\")\n",
    "\n",
    "# Vygenerování náhodného klíče\n",
    "key = cipher.generate_random_key()\n",
    "key_string = cipher.key_to_string(key)\n",
    "print(f\"\\nKlíč (permutace): {key_string}\")\n",
    "print(f\"Abeceda:          {cipher.alphabet}\")\n",
    "\n",
    "# Šifrování\n",
    "encrypted = cipher.encrypt(original_text, key)\n",
    "print(f\"\\nZašifrovaný text: {encrypted}\")\n",
    "\n",
    "# Dešifrování\n",
    "decrypted = cipher.decrypt(encrypted, key)\n",
    "print(f\"Dešifrovaný text: {decrypted}\")\n",
    "print(f\"\\nSprávně dešifrováno: {decrypted == original_text}\")"
   ]
  },
  {
   "cell_type": "markdown",
   "metadata": {},
   "source": [
    "## 2. Předpříprava textu\n",
    "\n",
    "Ukázka převodu českého textu do formátu vhodného pro šifrování."
   ]
  },
  {
   "cell_type": "code",
   "execution_count": null,
   "metadata": {},
   "outputs": [],
   "source": [
    "# Český text s diakritikou\n",
    "czech_text = \"Čáp létá přes louky a zpívá si píseň.\"\n",
    "print(f\"Původní český text: {czech_text}\")\n",
    "\n",
    "# Předpříprava textu\n",
    "processed = cipher.preprocess_text(czech_text)\n",
    "print(f\"Zpracovaný text:    {processed}\")"
   ]
  },
  {
   "cell_type": "markdown",
   "metadata": {},
   "source": [
    "## 3. Vytvoření bigramové matice\n",
    "\n",
    "Vizualizace bigramové matice vytvořené z textu knihy Krakatit."
   ]
  },
  {
   "cell_type": "code",
   "execution_count": null,
   "metadata": {},
   "outputs": [],
   "source": [
    "# Načtení uložené bigramové matice\n",
    "with open('data/czech_bigram_data.pkl', 'rb') as f:\n",
    "    bigram_data = pickle.load(f)\n",
    "\n",
    "ref_matrix = bigram_data['matrix']\n",
    "alphabet = bigram_data['alphabet']\n",
    "source_length = bigram_data['source_text_length']\n",
    "\n",
    "print(f\"Bigramová matice vytvořena z textu o délce {source_length:,} znaků\")\n",
    "print(f\"Rozměry matice: {ref_matrix.shape}\")"
   ]
  },
  {
   "cell_type": "code",
   "execution_count": null,
   "metadata": {},
   "outputs": [],
   "source": [
    "# Vizualizace bigramové matice\n",
    "plt.figure(figsize=(14, 12))\n",
    "\n",
    "# Použití logaritmického měřítka pro lepší vizualizaci\n",
    "log_matrix = np.log10(ref_matrix + 1e-10)\n",
    "\n",
    "sns.heatmap(log_matrix, \n",
    "            xticklabels=list(alphabet),\n",
    "            yticklabels=list(alphabet),\n",
    "            cmap='viridis',\n",
    "            cbar_kws={'label': 'log10(pravděpodobnost)'})\n",
    "\n",
    "plt.title('Bigramová matice českého textu (logaritmické měřítko)', fontsize=16)\n",
    "plt.xlabel('Druhý znak', fontsize=12)\n",
    "plt.ylabel('První znak', fontsize=12)\n",
    "plt.tight_layout()\n",
    "plt.show()"
   ]
  },
  {
   "cell_type": "code",
   "execution_count": null,
   "metadata": {},
   "outputs": [],
   "source": [
    "# Nejčastější bigramy\n",
    "analyzer = BigramAnalysis()\n",
    "print(\"20 nejčastějších bigramů v českém textu:\")\n",
    "print(\"=\"*40)\n",
    "\n",
    "# Najdi indexy největších hodnot\n",
    "flat_indices = np.argsort(ref_matrix.ravel())[-20:][::-1]\n",
    "indices = np.unravel_index(flat_indices, ref_matrix.shape)\n",
    "\n",
    "for i in range(20):\n",
    "    row, col = indices[0][i], indices[1][i]\n",
    "    bigram = alphabet[row] + alphabet[col]\n",
    "    prob = ref_matrix[row, col]\n",
    "    print(f\"{i+1:2d}. {bigram}: {prob:.4f} ({prob*100:.2f}%)\")"
   ]
  },
  {
   "cell_type": "markdown",
   "metadata": {},
   "source": [
    "## 4. Kryptoanalýza pomocí Metropolis-Hastings algoritmu\n",
    "\n",
    "Demonstrace automatického prolomení šifry."
   ]
  },
  {
   "cell_type": "code",
   "execution_count": null,
   "metadata": {},
   "outputs": [],
   "source": [
    "# Vytvoření testovacího textu\n",
    "test_text = \"\"\"NEBYLA_A_JA_V_LENOSCE_JAKO_KUS_DREVA_VIS_UNAVEN_PRILIS_PRACE_A_NAJEDNOU_PRASK\"\"\".replace('\\n', '')\n",
    "\n",
    "print(f\"Původní text ({len(test_text)} znaků):\")\n",
    "print(test_text[:100] + \"...\")\n",
    "\n",
    "# Zašifrování\n",
    "test_key = cipher.generate_random_key()\n",
    "encrypted_test = cipher.encrypt(test_text, test_key)\n",
    "\n",
    "print(f\"\\nZašifrovaný text:\")\n",
    "print(encrypted_test[:100] + \"...\")\n",
    "print(f\"\\nPoužitý klíč: {cipher.key_to_string(test_key)}\")"
   ]
  },
  {
   "cell_type": "code",
   "execution_count": null,
   "metadata": {},
   "outputs": [],
   "source": [
    "# Kryptoanalýza\n",
    "cryptanalysis = MetropolisHastingsCryptanalysis(ref_matrix, temperature=2.0)\n",
    "\n",
    "print(\"Spouštím kryptoanalýzu...\")\n",
    "print(\"(Toto může trvat několik minut)\\n\")\n",
    "\n",
    "found_key, decrypted_text, fitness_history = cryptanalysis.metropolis_hastings(\n",
    "    encrypted_test, \n",
    "    iterations=20000,\n",
    "    print_progress=True\n",
    ")"
   ]
  },
  {
   "cell_type": "code",
   "execution_count": null,
   "metadata": {},
   "outputs": [],
   "source": [
    "# Výsledky kryptoanalýzy\n",
    "print(\"\\nVÝSLEDKY KRYPTOANALÝZY:\")\n",
    "print(\"=\"*50)\n",
    "print(f\"\\nDešifrovaný text:\")\n",
    "print(decrypted_text[:100] + \"...\")\n",
    "\n",
    "print(f\"\\nNalezený klíč: {cipher.key_to_string(found_key)}\")\n",
    "print(f\"Správný klíč:  {cipher.key_to_string(test_key)}\")\n",
    "\n",
    "# Porovnání\n",
    "correct_chars = sum(1 for orig, dec in zip(test_text, decrypted_text) if orig == dec)\n",
    "accuracy = correct_chars / len(test_text) * 100\n",
    "print(f\"\\nPřesnost dešifrování: {accuracy:.2f}%\")"
   ]
  },
  {
   "cell_type": "code",
   "execution_count": null,
   "metadata": {},
   "outputs": [],
   "source": [
    "# Vizualizace průběhu optimalizace\n",
    "plt.figure(figsize=(12, 6))\n",
    "\n",
    "plt.subplot(1, 2, 1)\n",
    "plt.plot(fitness_history)\n",
    "plt.title('Vývoj fitness během optimalizace')\n",
    "plt.xlabel('Iterace')\n",
    "plt.ylabel('Fitness (log-pravděpodobnost)')\n",
    "plt.grid(True)\n",
    "\n",
    "plt.subplot(1, 2, 2)\n",
    "plt.plot(fitness_history[-1000:])\n",
    "plt.title('Posledních 1000 iterací')\n",
    "plt.xlabel('Iterace')\n",
    "plt.ylabel('Fitness')\n",
    "plt.grid(True)\n",
    "\n",
    "plt.tight_layout()\n",
    "plt.show()"
   ]
  },
  {
   "cell_type": "markdown",
   "metadata": {},
   "source": [
    "## 5. Analýza vlivu délky textu na úspěšnost dešifrování\n",
    "\n",
    "Testujeme, jak délka zašifrovaného textu ovlivňuje úspěšnost kryptoanalýzy."
   ]
  },
  {
   "cell_type": "code",
   "execution_count": null,
   "metadata": {},
   "outputs": [],
   "source": [
    "# Test různých délek textu\n",
    "lengths = [50, 100, 250, 500, 1000]\n",
    "results = []\n",
    "\n",
    "# Načtení dlouhého textu pro testování\n",
    "with open('data/krakatit_processed.txt', 'r') as f:\n",
    "    long_text = f.read()\n",
    "\n",
    "for length in lengths:\n",
    "    print(f\"\\nTestuji text o délce {length} znaků...\")\n",
    "    \n",
    "    # Vyber část textu\n",
    "    sample_text = long_text[:length]\n",
    "    \n",
    "    # Zašifruj\n",
    "    sample_key = cipher.generate_random_key()\n",
    "    encrypted_sample = cipher.encrypt(sample_text, sample_key)\n",
    "    \n",
    "    # Dešifruj (méně iterací pro rychlost)\n",
    "    found_key, decrypted, history = cryptanalysis.metropolis_hastings(\n",
    "        encrypted_sample, \n",
    "        iterations=5000,\n",
    "        print_progress=False\n",
    "    )\n",
    "    \n",
    "    # Vyhodnoť úspěšnost\n",
    "    correct = sum(1 for orig, dec in zip(sample_text, decrypted) if orig == dec)\n",
    "    accuracy = correct / length * 100\n",
    "    \n",
    "    results.append({\n",
    "        'length': length,\n",
    "        'accuracy': accuracy,\n",
    "        'final_fitness': history[-1]\n",
    "    })\n",
    "    \n",
    "    print(f\"Přesnost: {accuracy:.2f}%\")"
   ]
  },
  {
   "cell_type": "code",
   "execution_count": null,
   "metadata": {},
   "outputs": [],
   "source": [
    "# Vizualizace výsledků\n",
    "plt.figure(figsize=(10, 6))\n",
    "\n",
    "lengths_list = [r['length'] for r in results]\n",
    "accuracies = [r['accuracy'] for r in results]\n",
    "\n",
    "plt.plot(lengths_list, accuracies, 'bo-', linewidth=2, markersize=10)\n",
    "plt.xlabel('Délka textu (znaky)', fontsize=12)\n",
    "plt.ylabel('Přesnost dešifrování (%)', fontsize=12)\n",
    "plt.title('Vliv délky textu na úspěšnost kryptoanalýzy', fontsize=14)\n",
    "plt.grid(True, alpha=0.3)\n",
    "plt.ylim(0, 105)\n",
    "\n",
    "# Přidání hodnot k bodům\n",
    "for length, acc in zip(lengths_list, accuracies):\n",
    "    plt.annotate(f'{acc:.1f}%', (length, acc), \n",
    "                textcoords=\"offset points\", xytext=(0,10), ha='center')\n",
    "\n",
    "plt.tight_layout()\n",
    "plt.show()"
   ]
  },
  {
   "cell_type": "markdown",
   "metadata": {},
   "source": [
    "## 6. Shrnutí\n",
    "\n",
    "Implementovaná knihovna umožňuje:\n",
    "\n",
    "1. **Šifrování a dešifrování** textu pomocí substituční šifry\n",
    "2. **Vytvoření bigramové matice** z referenčního českého textu\n",
    "3. **Automatickou kryptoanalýzu** pomocí Metropolis-Hastings algoritmu\n",
    "4. **Vizualizaci** výsledků a průběhu optimalizace\n",
    "\n",
    "Úspěšnost kryptoanalýzy závisí především na:\n",
    "- Délce zašifrovaného textu (delší texty jsou snadněji dešifrovatelné)\n",
    "- Kvalitě referenční bigramové matice\n",
    "- Parametrech algoritmu (počet iterací, teplota)\n",
    "\n",
    "Algoritmus dosahuje velmi dobrých výsledků již při textech o délce několika stovek znaků."
   ]
  }
 ],
 "metadata": {
  "kernelspec": {
   "display_name": "Python 3",
   "language": "python",
   "name": "python3"
  },
  "language_info": {
   "codemirror_mode": {
    "name": "ipython",
    "version": 3
   },
   "file_extension": ".py",
   "mimetype": "text/x-python",
   "name": "python",
   "nbconvert_exporter": "python",
   "pygments_lexer": "ipython3",
   "version": "3.9.6"
  }
 },
 "nbformat": 4,
 "nbformat_minor": 4
}
